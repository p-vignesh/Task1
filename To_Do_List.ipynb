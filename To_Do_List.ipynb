{
  "nbformat": 4,
  "nbformat_minor": 0,
  "metadata": {
    "colab": {
      "provenance": []
    },
    "kernelspec": {
      "name": "python3",
      "display_name": "Python 3"
    },
    "language_info": {
      "name": "python"
    }
  },
  "cells": [
    {
      "cell_type": "code",
      "execution_count": null,
      "metadata": {
        "colab": {
          "base_uri": "https://localhost:8080/"
        },
        "id": "duGtKsFFWhzw",
        "outputId": "eb46df51-9770-4007-c497-c4741b23de73"
      },
      "outputs": [
        {
          "output_type": "stream",
          "name": "stdout",
          "text": [
            "\n",
            "Menu:\n",
            "1. Add Task\n",
            "2. View Tasks\n",
            "3. Mark Task as Completed\n",
            "4. Quit\n"
          ]
        }
      ],
      "source": [
        "class ToDoList:\n",
        "    def __init__(self):\n",
        "        self.tasks = []\n",
        "\n",
        "    def add_task(self, task):\n",
        "        self.tasks.append({\"task\": task, \"completed\": False})\n",
        "        print(f'Task \"{task}\" added successfully.')\n",
        "\n",
        "    def view_tasks(self):\n",
        "        if not self.tasks:\n",
        "            print(\"No tasks found.\")\n",
        "        else:\n",
        "            print(\"Tasks:\")\n",
        "            for index, task in enumerate(self.tasks, start=1):\n",
        "                status = \"✅\" if task[\"completed\"] else \"❌\"\n",
        "                print(f\"{index}. {task['task']} ({status})\")\n",
        "\n",
        "    def complete_task(self, task_index):\n",
        "        if 1 <= task_index <= len(self.tasks):\n",
        "            task = self.tasks[task_index - 1]\n",
        "            if not task[\"completed\"]:\n",
        "                task[\"completed\"] = True\n",
        "                print(f'Task \"{task[\"task\"]}\" marked as completed.')\n",
        "            else:\n",
        "                print(f'Task \"{task[\"task\"]}\" is already completed.')\n",
        "        else:\n",
        "            print(\"Invalid task index.\")\n",
        "\n",
        "def main():\n",
        "    todo_list = ToDoList()\n",
        "\n",
        "    while True:\n",
        "        print(\"\\nMenu:\")\n",
        "        print(\"1. Add Task\")\n",
        "        print(\"2. View Tasks\")\n",
        "        print(\"3. Mark Task as Completed\")\n",
        "        print(\"4. Quit\")\n",
        "\n",
        "        choice = input(\"Enter your choice (1-4): \")\n",
        "\n",
        "        if choice == \"1\":\n",
        "            task = input(\"Enter the task: \")\n",
        "            todo_list.add_task(task)\n",
        "        elif choice == \"2\":\n",
        "            todo_list.view_tasks()\n",
        "        elif choice == \"3\":\n",
        "            todo_list.view_tasks()\n",
        "            task_index = int(input(\"Enter the index of the task to mark as completed: \"))\n",
        "            todo_list.complete_task(task_index)\n",
        "        elif choice == \"4\":\n",
        "            print(\"Exiting the program. Goodbye!\")\n",
        "            break\n",
        "        else:\n",
        "            print(\"Invalid choice. Please enter a number between 1 and 4.\")\n",
        "\n",
        "if __name__ == \"__main__\":\n",
        "    main()"
      ]
    }
  ]
}